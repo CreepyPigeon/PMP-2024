{
 "cells": [
  {
   "cell_type": "markdown",
   "metadata": {},
   "source": [
    "1."
   ]
  },
  {
   "cell_type": "code",
   "execution_count": null,
   "metadata": {},
   "outputs": [],
   "source": [
    "pip install hmmlearn"
   ]
  },
  {
   "cell_type": "code",
   "execution_count": null,
   "metadata": {},
   "outputs": [
    {
     "name": "stdout",
     "output_type": "stream",
     "text": [
      "[10, 1]\n",
      "[11, 0, 2]\n",
      "[12, 1, 3]\n",
      "[13, 2, 4]\n",
      "[14, 3, 5]\n",
      "[15, 4, 6]\n",
      "[16, 5, 7]\n",
      "[17, 6, 8]\n",
      "[18, 7, 9]\n",
      "[19, 8]\n",
      "[0, 20, 11]\n",
      "[1, 21, 10, 12]\n",
      "[2, 22, 11, 13]\n",
      "[3, 23, 12, 14]\n",
      "[4, 24, 13, 15]\n",
      "[5, 25, 14, 16]\n",
      "[6, 26, 15, 17]\n",
      "[7, 27, 16, 18]\n",
      "[8, 28, 17, 19]\n",
      "[9, 29, 18]\n",
      "[10, 30, 21]\n",
      "[11, 31, 20, 22]\n",
      "[12, 32, 21, 23]\n",
      "[13, 33, 22, 24]\n",
      "[14, 34, 23, 25]\n",
      "[15, 35, 24, 26]\n",
      "[16, 36, 25, 27]\n",
      "[17, 37, 26, 28]\n",
      "[18, 38, 27, 29]\n",
      "[19, 39, 28]\n",
      "[20, 40, 31]\n",
      "[21, 41, 30, 32]\n",
      "[22, 42, 31, 33]\n",
      "[23, 43, 32, 34]\n",
      "[24, 44, 33, 35]\n",
      "[25, 45, 34, 36]\n",
      "[26, 46, 35, 37]\n",
      "[27, 47, 36, 38]\n",
      "[28, 48, 37, 39]\n",
      "[29, 49, 38]\n",
      "[30, 50, 41]\n",
      "[31, 51, 40, 42]\n",
      "[32, 52, 41, 43]\n",
      "[33, 53, 42, 44]\n",
      "[34, 54, 43, 45]\n",
      "[35, 55, 44, 46]\n",
      "[36, 56, 45, 47]\n",
      "[37, 57, 46, 48]\n",
      "[38, 58, 47, 49]\n",
      "[39, 59, 48]\n",
      "[40, 60, 51]\n",
      "[41, 61, 50, 52]\n",
      "[42, 62, 51, 53]\n",
      "[43, 63, 52, 54]\n",
      "[44, 64, 53, 55]\n",
      "[45, 65, 54, 56]\n",
      "[46, 66, 55, 57]\n",
      "[47, 67, 56, 58]\n",
      "[48, 68, 57, 59]\n",
      "[49, 69, 58]\n",
      "[50, 70, 61]\n",
      "[51, 71, 60, 62]\n",
      "[52, 72, 61, 63]\n",
      "[53, 73, 62, 64]\n",
      "[54, 74, 63, 65]\n",
      "[55, 75, 64, 66]\n",
      "[56, 76, 65, 67]\n",
      "[57, 77, 66, 68]\n",
      "[58, 78, 67, 69]\n",
      "[59, 79, 68]\n",
      "[60, 80, 71]\n",
      "[61, 81, 70, 72]\n",
      "[62, 82, 71, 73]\n",
      "[63, 83, 72, 74]\n",
      "[64, 84, 73, 75]\n",
      "[65, 85, 74, 76]\n",
      "[66, 86, 75, 77]\n",
      "[67, 87, 76, 78]\n",
      "[68, 88, 77, 79]\n",
      "[69, 89, 78]\n",
      "[70, 90, 81]\n",
      "[71, 91, 80, 82]\n",
      "[72, 92, 81, 83]\n",
      "[73, 93, 82, 84]\n",
      "[74, 94, 83, 85]\n",
      "[75, 95, 84, 86]\n",
      "[76, 96, 85, 87]\n",
      "[77, 97, 86, 88]\n",
      "[78, 98, 87, 89]\n",
      "[79, 99, 88]\n",
      "[80, 91]\n",
      "[81, 90, 92]\n",
      "[82, 91, 93]\n",
      "[83, 92, 94]\n",
      "[84, 93, 95]\n",
      "[85, 94, 96]\n",
      "[86, 95, 97]\n",
      "[87, 96, 98]\n",
      "[88, 97, 99]\n",
      "[89, 98]\n"
     ]
    },
    {
     "ename": "NameError",
     "evalue": "name 'transition_probability' is not defined",
     "output_type": "error",
     "traceback": [
      "\u001b[1;31m---------------------------------------------------------------------------\u001b[0m",
      "\u001b[1;31mNameError\u001b[0m                                 Traceback (most recent call last)",
      "Cell \u001b[1;32mIn[25], line 71\u001b[0m\n\u001b[0;32m     69\u001b[0m model \u001b[38;5;241m=\u001b[39m hmm\u001b[38;5;241m.\u001b[39mCategoricalHMM(n_components\u001b[38;5;241m=\u001b[39m\u001b[38;5;241m100\u001b[39m)\n\u001b[0;32m     70\u001b[0m model\u001b[38;5;241m.\u001b[39mstartprob_ \u001b[38;5;241m=\u001b[39m \u001b[38;5;241m1\u001b[39m\u001b[38;5;241m/\u001b[39m\u001b[38;5;241m100\u001b[39m\n\u001b[1;32m---> 71\u001b[0m model\u001b[38;5;241m.\u001b[39mtransmat_ \u001b[38;5;241m=\u001b[39m \u001b[43mtransition_probability\u001b[49m\n\u001b[0;32m     72\u001b[0m \u001b[38;5;66;03m#model.emissionprob_ = emission_probability\u001b[39;00m\n\u001b[0;32m     73\u001b[0m \n\u001b[0;32m     74\u001b[0m \u001b[38;5;66;03m######\u001b[39;00m\n\u001b[1;32m   (...)\u001b[0m\n\u001b[0;32m    106\u001b[0m \u001b[38;5;66;03m#plt.title(\"Drumul rezultat al stărilor ascunse\", fontsize=14)\u001b[39;00m\n\u001b[0;32m    107\u001b[0m \u001b[38;5;66;03m#plt.show()\u001b[39;00m\n",
      "\u001b[1;31mNameError\u001b[0m: name 'transition_probability' is not defined"
     ]
    }
   ],
   "source": [
    "from hmmlearn import hmm\n",
    "import numpy as np\n",
    "import matplotlib.pyplot as plt\n",
    "import pandas as pd\n",
    "\n",
    "# Dimensiunea gridului\n",
    "dimensiune_grid = (10, 10)\n",
    "\n",
    "# Lista de culori predefinite\n",
    "culori = [\n",
    "    \"red\", \"blue\", \"green\", \"yellow\", \n",
    "    \"purple\", \"orange\", \"pink\", \"cyan\", \n",
    "    \"brown\", \"lime\"\n",
    "]\n",
    "\n",
    "# Citirea gridului\n",
    "df = pd.read_csv('grid_culori.csv', header=None)\n",
    "grid_culori = df.to_numpy()\n",
    "\n",
    "#print(grid_culori)\n",
    "\n",
    "# Generarea secvenței de culori observate\n",
    "observatii = [\"red\", \"red\", \"lime\", \"yellow\", \"blue\"]\n",
    "\n",
    "#print(observatii)\n",
    "# Mapare culori -> indecși\n",
    "culoare_to_idx = {culoare: idx for idx, culoare in enumerate(culori)}\n",
    "idx_to_culoare = {idx: culoare for culoare, idx in culoare_to_idx.items()}\n",
    "\n",
    "# Transformăm secvența de observații în indecși\n",
    "observatii_idx = [culoare_to_idx[c] for c in observatii]\n",
    "#print(observatii_idx)\n",
    "# Definim stările ascunse ca fiind toate pozițiile din grid (100 de stări)\n",
    "numar_stari = dimensiune_grid[0] * dimensiune_grid[1]\n",
    "stari_ascunse = [(i, j) for i in range(dimensiune_grid[0]) for j in range(dimensiune_grid[1])]\n",
    "stare_to_idx = {stare: idx for idx, stare in enumerate(stari_ascunse)}\n",
    "idx_to_stare = {idx: stare for stare, idx in stare_to_idx.items()}\n",
    "\n",
    "# Matrice de tranziție\n",
    "transitions = np.zeros((numar_stari, numar_stari))\n",
    "\n",
    "for i, j in stari_ascunse:\n",
    "    vecini = [\n",
    "        (i - 1, j), (i + 1, j), (i, j - 1), (i, j + 1)  # sus, jos, stânga, dreapta\n",
    "    ]\n",
    "    vecini_valizi = [stare_to_idx[(x, y)] for x, y in vecini if 0 <= x < 10 and 0 <= y < 10]\n",
    "    #print(vecini_valizi)\n",
    "\n",
    "    prob_vecin = 0.75/len(vecini_valizi)\n",
    "    transitions[i*10+j][i*10+j] = 0.25 # sansa sa ramana pe loc\n",
    "    #print(prob_vecin)\n",
    "    for v in vecini_valizi:\n",
    "        transitions[i*10 + j][v] = prob_vecin\n",
    "    ## acum am o matrice cu sansele ca agentul si sa plece din casuta\n",
    "\n",
    "\n",
    "# Matrice de emisie\n",
    "emissions = np.zeros((numar_stari, len(culori)))\n",
    "for i, j in stari_ascunse:\n",
    "    vecini = [\n",
    "        (i - 1, j), (i + 1, j), (i, j - 1), (i, j + 1)  # sus, jos, stânga, dreapta\n",
    "    ]\n",
    "    vecini_valizi = [stare_to_idx[(x, y)] for x, y in vecini if 0 <= x < 10 and 0 <= y < 10]\n",
    "    print(vecini_valizi)\n",
    "    #ar trebui sa pun culorile aici in emissions\n",
    "  \n",
    "# Modelul HMM\n",
    "\n",
    "model = hmm.CategoricalHMM(n_components=100)\n",
    "model.startprob_ = 1/100\n",
    "model.transmat_ = transitions\n",
    "#model.emissionprob_ = emissions\n",
    "\n",
    "######\n",
    "\n",
    "# Rulăm algoritmul Viterbi pentru secvența de observații\n",
    "######\n",
    "\n",
    "# Convertim secvența de stări în poziții din grid\n",
    "#drum = [idx_to_stare[idx] for idx in secventa_stari]\n",
    "\n",
    "# Vizualizăm drumul pe grid\n",
    "#fig, ax = plt.subplots(figsize=(8, 8))\n",
    "#for i in range(dimensiune_grid[0]):\n",
    "#    for j in range(dimensiune_grid[1]):\n",
    "#        culoare = grid_culori[i, j]\n",
    "#        ax.add_patch(plt.Rectangle((j, dimensiune_grid[0] - i - 1), 1, 1, color=culoare))\n",
    "#        ax.text(j + 0.5, dimensiune_grid[0] - i - 0.5, culoare, \n",
    "#                color=\"white\", ha=\"center\", va=\"center\", fontsize=8, fontweight=\"bold\")\n",
    "\n",
    "# Evidențiem drumul rezultat\n",
    "#for idx, (i, j) in enumerate(drum):\n",
    "#    ax.add_patch(plt.Circle((j + 0.5, dimensiune_grid[0] - i - 0.5), 0.3, color=\"black\", alpha=0.7))\n",
    "#    ax.text(j + 0.5, dimensiune_grid[0] - i - 0.5, str(idx + 1), \n",
    "#            color=\"white\", ha=\"center\", va=\"center\", fontsize=10, fontweight=\"bold\")\n",
    "\n",
    "# Setări axă\n",
    "#ax.set_xlim(0, dimensiune_grid[1])\n",
    "#ax.set_ylim(0, dimensiune_grid[0])\n",
    "#ax.set_xticks(range(dimensiune_grid[1]))\n",
    "#ax.set_yticks(range(dimensiune_grid[0]))\n",
    "#ax.set_xticklabels([])\n",
    "#ax.set_yticklabels([])\n",
    "#ax.grid(visible=True, color=\"black\", linewidth=0.5)\n",
    "#ax.set_aspect(\"equal\")\n",
    "#plt.title(\"Drumul rezultat al stărilor ascunse\", fontsize=14)\n",
    "#plt.show()"
   ]
  },
  {
   "cell_type": "markdown",
   "metadata": {},
   "source": [
    "3. 1."
   ]
  },
  {
   "cell_type": "code",
   "execution_count": null,
   "metadata": {},
   "outputs": [
    {
     "name": "stderr",
     "output_type": "stream",
     "text": [
      "INFO:pymc.sampling.mcmc:Auto-assigning NUTS sampler...\n",
      "INFO:pymc.sampling.mcmc:Initializing NUTS using jitter+adapt_diag...\n",
      "INFO:pymc.sampling.mcmc:Multiprocess sampling (4 chains in 4 jobs)\n",
      "INFO:pymc.sampling.mcmc:NUTS: [p]\n"
     ]
    },
    {
     "data": {
      "application/vnd.jupyter.widget-view+json": {
       "model_id": "2973333272fd4678b2778c02367e55bb",
       "version_major": 2,
       "version_minor": 0
      },
      "text/plain": [
       "Output()"
      ]
     },
     "metadata": {},
     "output_type": "display_data"
    },
    {
     "data": {
      "text/html": [
       "<pre style=\"white-space:pre;overflow-x:auto;line-height:normal;font-family:Menlo,'DejaVu Sans Mono',consolas,'Courier New',monospace\"></pre>\n"
      ],
      "text/plain": []
     },
     "metadata": {},
     "output_type": "display_data"
    },
    {
     "name": "stderr",
     "output_type": "stream",
     "text": [
      "INFO:pymc.sampling.mcmc:Sampling 4 chains for 1_000 tune and 500 draw iterations (4_000 + 2_000 draws total) took 14 seconds.\n"
     ]
    },
    {
     "data": {
      "image/png": "[encoded data removed]",
      "text/plain": [
       "<Figure size 640x480 with 1 Axes>"
      ]
     },
     "metadata": {},
     "output_type": "display_data"
    },
    {
     "name": "stdout",
     "output_type": "stream",
     "text": [
      "    mean     sd  hdi_3%  hdi_97%  mcse_mean  mcse_sd  ess_bulk  ess_tail  \\\n",
      "p  0.663  0.132    0.43    0.909      0.004    0.003     889.0     969.0   \n",
      "\n",
      "   r_hat  \n",
      "p    1.0  \n"
     ]
    }
   ],
   "source": [
    "import pymc as pm\n",
    "import numpy as np\n",
    "import matplotlib.pyplot as plt\n",
    "import arviz as az\n",
    "\n",
    "observed_data = [0, 1, 1, 1, 0, 1, 0, 1, 1, 1] # s = 0, b = 1\n",
    "# mean este 7/10\n",
    "\n",
    "with pm.Model() as model:\n",
    "\n",
    "    alpha = 1\n",
    "    beta = 1\n",
    "    p = pm.Beta(\"p\", alpha=alpha, beta=)\n",
    "    \n",
    "    likelihood = pm.Bernoulli(\"likelihood\", p=p, observed=observed_data)\n",
    "\n",
    "    trace = pm.sample(500, return_inferencedata=True)\n",
    "\n",
    "az.plot_posterior(trace, var_names=[\"p\"], hdi_prob=0.95)\n",
    "plt.title(\"Posterior Distribution of p\")\n",
    "plt.show()\n",
    "\n",
    "summary = az.summary(trace, var_names=[\"p\"])\n",
    "print(summary)\n"
   ]
  },
  {
   "cell_type": "markdown",
   "metadata": {},
   "source": [
    "3. 2. a) Beta uniforma nu este tot Alpha = 1, Beta = 1?"
   ]
  },
  {
   "cell_type": "code",
   "execution_count": null,
   "metadata": {},
   "outputs": [],
   "source": []
  },
  {
   "cell_type": "markdown",
   "metadata": {},
   "source": [
    "3. 2. b)"
   ]
  },
  {
   "cell_type": "code",
   "execution_count": 24,
   "metadata": {},
   "outputs": [
    {
     "name": "stderr",
     "output_type": "stream",
     "text": [
      "INFO:pymc.sampling.mcmc:Auto-assigning NUTS sampler...\n",
      "INFO:pymc.sampling.mcmc:Initializing NUTS using jitter+adapt_diag...\n",
      "INFO:pymc.sampling.mcmc:Multiprocess sampling (4 chains in 4 jobs)\n",
      "INFO:pymc.sampling.mcmc:NUTS: [mu, sigma]\n"
     ]
    },
    {
     "data": {
      "application/vnd.jupyter.widget-view+json": {
       "model_id": "d901e6f0ea1a41c890fa910cc4f20223",
       "version_major": 2,
       "version_minor": 0
      },
      "text/plain": [
       "Output()"
      ]
     },
     "metadata": {},
     "output_type": "display_data"
    },
    {
     "data": {
      "text/html": [
       "<pre style=\"white-space:pre;overflow-x:auto;line-height:normal;font-family:Menlo,'DejaVu Sans Mono',consolas,'Courier New',monospace\"></pre>\n"
      ],
      "text/plain": []
     },
     "metadata": {},
     "output_type": "display_data"
    },
    {
     "name": "stderr",
     "output_type": "stream",
     "text": [
      "INFO:pymc.sampling.mcmc:Sampling 4 chains for 1_000 tune and 500 draw iterations (4_000 + 2_000 draws total) took 17 seconds.\n"
     ]
    },
    {
     "data": {
      "image/png": "[encoded data removed]",
      "text/plain": [
       "<Figure size 640x480 with 1 Axes>"
      ]
     },
     "metadata": {},
     "output_type": "display_data"
    },
    {
     "name": "stdout",
     "output_type": "stream",
     "text": [
      "     mean     sd  hdi_3%  hdi_97%  mcse_mean  mcse_sd  ess_bulk  ess_tail  \\\n",
      "mu  0.574  0.091   0.406    0.736      0.002    0.001    2272.0    1603.0   \n",
      "\n",
      "    r_hat  \n",
      "mu    1.0  \n"
     ]
    }
   ],
   "source": [
    "new_observed_data = [0, 0, 1, 0, 1, 1, 0, 1, 1, 0]\n",
    "\n",
    "with pm.Model() as model3:\n",
    "\n",
    "    #mu = 0.663\n",
    "    #sigma = 0.132\n",
    "    mu = pm.Normal(\"mu\", mu=0.66, sigma=0.132)\n",
    "    sigma = pm.HalfNormal(\"sigma\", sigma=0.132)\n",
    "\n",
    "    #alpha = 1\n",
    "    #beta = 1\n",
    "    #p = pm.Beta(\"p\", alpha=alpha, beta=beta)\n",
    "    \n",
    "    #likelihood = pm.Bernoulli(\"likelihood\", p=p, observed=observed_data)\n",
    "    likelihood = pm.Normal(\"likelihood\", mu=mu, sigma=sigma, observed=new_observed_data)\n",
    "\n",
    "    trace = pm.sample(500, return_inferencedata=True)\n",
    "\n",
    "az.plot_posterior(trace, var_names=[\"mu\"], hdi_prob=0.95)\n",
    "plt.title(\"Posterior Distribution of mu\")\n",
    "plt.show()\n",
    "\n",
    "summary = az.summary(trace, var_names=[\"mu\"])\n",
    "print(summary)"
   ]
  },
  {
   "cell_type": "markdown",
   "metadata": {},
   "source": [
    "Fata de ce a aparut la 3.1, observam ca media a mai scazut, deviatia standard a mai scazut si ca HDI este mai restrans (valorile din interval sunt mai aproape de medie)"
   ]
  }
 ],
 "metadata": {
  "kernelspec": {
   "display_name": "Python 3",
   "language": "python",
   "name": "python3"
  },
  "language_info": {
   "codemirror_mode": {
    "name": "ipython",
    "version": 3
   },
   "file_extension": ".py",
   "mimetype": "text/x-python",
   "name": "python",
   "nbconvert_exporter": "python",
   "pygments_lexer": "ipython3",
   "version": "3.12.7"
  }
 },
 "nbformat": 4,
 "nbformat_minor": 2
}
